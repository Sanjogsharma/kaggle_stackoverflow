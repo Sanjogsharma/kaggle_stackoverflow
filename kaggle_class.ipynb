{
 "cells": [
  {
   "cell_type": "markdown",
   "metadata": {},
   "source": [
    "### This notebook is for an in-class Kaggle competetion: Predict whether a Stack Overflow question will be closed\n",
    "\n",
    "####1) importing pandas, reading the file, examining data"
   ]
  },
  {
   "cell_type": "code",
   "execution_count": 1,
   "metadata": {
    "collapsed": false
   },
   "outputs": [],
   "source": [
    "import pandas as pd\n",
    "\n",
    "train = pd.read_table('train.csv', sep=',')\n",
    "\n",
    "\n",
    "#drinks.rename(columns={'beer_servings':'beer', 'wine_servings':'wine'})"
   ]
  },
  {
   "cell_type": "code",
   "execution_count": 2,
   "metadata": {
    "collapsed": false
   },
   "outputs": [
    {
     "data": {
      "text/plain": [
       "0                NaN\n",
       "1                xsd\n",
       "2    database-design\n",
       "3             vb.net\n",
       "4        spring-data\n",
       "Name: Tag2, dtype: object"
      ]
     },
     "execution_count": 2,
     "metadata": {},
     "output_type": "execute_result"
    }
   ],
   "source": [
    "train.Tag2.head() # potential feature, number of tags without NaNs? Concanate all tags into a list?"
   ]
  },
  {
   "cell_type": "code",
   "execution_count": 63,
   "metadata": {
    "collapsed": false
   },
   "outputs": [
    {
     "data": {
      "text/html": [
       "<div>\n",
       "<table border=\"1\" class=\"dataframe\">\n",
       "  <thead>\n",
       "    <tr style=\"text-align: right;\">\n",
       "      <th></th>\n",
       "      <th>PostId</th>\n",
       "      <th>PostCreationDate</th>\n",
       "      <th>OwnerUserId</th>\n",
       "      <th>OwnerCreationDate</th>\n",
       "      <th>ReputationAtPostCreation</th>\n",
       "      <th>Answers</th>\n",
       "      <th>Title</th>\n",
       "      <th>BodyMarkdown</th>\n",
       "      <th>Tag1</th>\n",
       "      <th>Tag2</th>\n",
       "      <th>...</th>\n",
       "      <th>Tag5</th>\n",
       "      <th>PostClosedDate</th>\n",
       "      <th>OpenStatus</th>\n",
       "      <th>TitleLength</th>\n",
       "      <th>BodyLength</th>\n",
       "      <th>NumTags</th>\n",
       "      <th>OwnerAge</th>\n",
       "      <th>Tag1_enc</th>\n",
       "      <th>sentiment</th>\n",
       "      <th>Tag2_enc</th>\n",
       "    </tr>\n",
       "  </thead>\n",
       "  <tbody>\n",
       "    <tr>\n",
       "      <th>0</th>\n",
       "      <td>6046168</td>\n",
       "      <td>2011-05-18 14:14:05</td>\n",
       "      <td>543315</td>\n",
       "      <td>2010-09-17 10:15:06</td>\n",
       "      <td>1</td>\n",
       "      <td>2</td>\n",
       "      <td>For Mongodb is it better to reference an objec...</td>\n",
       "      <td>I am building a corpus of indexed sentences in...</td>\n",
       "      <td>mongodb</td>\n",
       "      <td>NaN</td>\n",
       "      <td>...</td>\n",
       "      <td>NaN</td>\n",
       "      <td>NaN</td>\n",
       "      <td>1</td>\n",
       "      <td>76</td>\n",
       "      <td>504</td>\n",
       "      <td>1</td>\n",
       "      <td>243</td>\n",
       "      <td>2776</td>\n",
       "      <td>0.285714</td>\n",
       "      <td>0</td>\n",
       "    </tr>\n",
       "    <tr>\n",
       "      <th>1</th>\n",
       "      <td>4873911</td>\n",
       "      <td>2011-02-02 11:30:10</td>\n",
       "      <td>465076</td>\n",
       "      <td>2010-10-03 09:30:58</td>\n",
       "      <td>192</td>\n",
       "      <td>24</td>\n",
       "      <td>How to insert schemalocation in a xml document...</td>\n",
       "      <td>i create a xml document with JAXP and search a...</td>\n",
       "      <td>dom</td>\n",
       "      <td>xsd</td>\n",
       "      <td>...</td>\n",
       "      <td>NaN</td>\n",
       "      <td>NaN</td>\n",
       "      <td>1</td>\n",
       "      <td>54</td>\n",
       "      <td>957</td>\n",
       "      <td>3</td>\n",
       "      <td>122</td>\n",
       "      <td>1199</td>\n",
       "      <td>0.157576</td>\n",
       "      <td>9200</td>\n",
       "    </tr>\n",
       "  </tbody>\n",
       "</table>\n",
       "<p>2 rows × 22 columns</p>\n",
       "</div>"
      ],
      "text/plain": [
       "    PostId    PostCreationDate  OwnerUserId   OwnerCreationDate  \\\n",
       "0  6046168 2011-05-18 14:14:05       543315 2010-09-17 10:15:06   \n",
       "1  4873911 2011-02-02 11:30:10       465076 2010-10-03 09:30:58   \n",
       "\n",
       "   ReputationAtPostCreation  Answers  \\\n",
       "0                         1        2   \n",
       "1                       192       24   \n",
       "\n",
       "                                               Title  \\\n",
       "0  For Mongodb is it better to reference an objec...   \n",
       "1  How to insert schemalocation in a xml document...   \n",
       "\n",
       "                                        BodyMarkdown     Tag1 Tag2    ...     \\\n",
       "0  I am building a corpus of indexed sentences in...  mongodb  NaN    ...      \n",
       "1  i create a xml document with JAXP and search a...      dom  xsd    ...      \n",
       "\n",
       "  Tag5 PostClosedDate OpenStatus TitleLength  BodyLength  NumTags  OwnerAge  \\\n",
       "0  NaN            NaN          1          76         504        1       243   \n",
       "1  NaN            NaN          1          54         957        3       122   \n",
       "\n",
       "   Tag1_enc  sentiment  Tag2_enc  \n",
       "0      2776   0.285714         0  \n",
       "1      1199   0.157576      9200  \n",
       "\n",
       "[2 rows x 22 columns]"
      ]
     },
     "execution_count": 63,
     "metadata": {},
     "output_type": "execute_result"
    }
   ],
   "source": [
    "train.head(2)"
   ]
  },
  {
   "cell_type": "code",
   "execution_count": 4,
   "metadata": {
    "collapsed": false
   },
   "outputs": [
    {
     "data": {
      "text/plain": [
       "Unnamed: 0                                  0\n",
       "PostId                                      0\n",
       "PostCreationDate                            0\n",
       "OwnerUserId                                 0\n",
       "OwnerCreationDate                           0\n",
       "ReputationAtPostCreation                    0\n",
       "OwnerUndeletedAnswerCountAtPostTime         0\n",
       "Title                                       0\n",
       "BodyMarkdown                                0\n",
       "Tag1                                        2\n",
       "Tag2                                    27228\n",
       "Tag3                                    64328\n",
       "Tag4                                   100609\n",
       "Tag5                                   124555\n",
       "PostClosedDate                          70136\n",
       "OpenStatus                                  0\n",
       "dtype: int64"
      ]
     },
     "execution_count": 4,
     "metadata": {},
     "output_type": "execute_result"
    }
   ],
   "source": [
    "train.isnull().sum()"
   ]
  },
  {
   "cell_type": "code",
   "execution_count": 5,
   "metadata": {
    "collapsed": false
   },
   "outputs": [
    {
     "data": {
      "text/plain": [
       "<matplotlib.axes._subplots.AxesSubplot at 0x110e8aa50>"
      ]
     },
     "execution_count": 5,
     "metadata": {},
     "output_type": "execute_result"
    },
    {
     "data": {
      "image/png": "[encoded data removed]",
      "text/plain": [
       "<matplotlib.figure.Figure at 0x110e8a490>"
      ]
     },
     "metadata": {},
     "output_type": "display_data"
    }
   ],
   "source": [
    "import seaborn as sns\n",
    "import matplotlib.pyplot as plot\n",
    "\n",
    "%matplotlib inline\n",
    "sns.heatmap(train.corr())"
   ]
  },
  {
   "cell_type": "markdown",
   "metadata": {},
   "source": [
    "####2 Feature Engineering"
   ]
  },
  {
   "cell_type": "code",
   "execution_count": 6,
   "metadata": {
    "collapsed": false
   },
   "outputs": [
    {
     "data": {
      "text/plain": [
       "'g = sns.pairplot(iris, size=3,\\n...                  vars=[\"sepal_width\", \"sepal_length\"])'"
      ]
     },
     "execution_count": 6,
     "metadata": {},
     "output_type": "execute_result"
    }
   ],
   "source": [
    "train['tags'] = train[train.Tag1.notnull() == False].Tag1 + train[train.Tag2.isnull() == False].Tag2 \\\n",
    "                + train[train.Tag3.isnull() == False].Tag3 \\\n",
    "    + train[train.Tag4.isnull() == False].Tag4 \\\n",
    "    + train[train.Tag5.isnull() == False].Tag5 \n",
    "\n",
    "\n",
    "#merge tags into one tag field, count the length of tags\n",
    "#see if time of post creation is relavent feature at all.. \n",
    "'''g = sns.pairplot(iris, size=3,\n",
    "...                  vars=[\"sepal_width\", \"sepal_length\"])'''\n"
   ]
  },
  {
   "cell_type": "code",
   "execution_count": 8,
   "metadata": {
    "collapsed": false
   },
   "outputs": [
    {
     "data": {
      "text/plain": [
       "466534     66\n",
       "39677      51\n",
       "34537      46\n",
       "310291     46\n",
       "32484      45\n",
       "84201      43\n",
       "117700     41\n",
       "4653       40\n",
       "179736     39\n",
       "237681     38\n",
       "325418     37\n",
       "656925     30\n",
       "11236      30\n",
       "554217     29\n",
       "244413     29\n",
       "63051      29\n",
       "496949     27\n",
       "51816      27\n",
       "136141     26\n",
       "54964      26\n",
       "233421     26\n",
       "508127     26\n",
       "149080     25\n",
       "434051     25\n",
       "651174     25\n",
       "108207     25\n",
       "185593     25\n",
       "164299     25\n",
       "478144     24\n",
       "478573     24\n",
       "           ..\n",
       "1174386     1\n",
       "1151869     1\n",
       "107444      1\n",
       "1149822     1\n",
       "1467267     1\n",
       "672647      1\n",
       "408456      1\n",
       "1180559     1\n",
       "187284      1\n",
       "965528      1\n",
       "584530      1\n",
       "64336       1\n",
       "21317       1\n",
       "225876      1\n",
       "455441      1\n",
       "713491      1\n",
       "1231638     1\n",
       "697115      1\n",
       "226081      1\n",
       "744228      1\n",
       "866308      1\n",
       "469802      1\n",
       "1254187     1\n",
       "1555256     1\n",
       "573590      1\n",
       "764730      1\n",
       "632600      1\n",
       "758589      1\n",
       "1018686     1\n",
       "1555040     1\n",
       "dtype: int64"
      ]
     },
     "execution_count": 8,
     "metadata": {},
     "output_type": "execute_result"
    }
   ],
   "source": [
    "#Owner user id related to no of open posts?\n",
    "\n",
    "train.OwnerUserId.value_counts()"
   ]
  },
  {
   "cell_type": "code",
   "execution_count": 9,
   "metadata": {
    "collapsed": false
   },
   "outputs": [
    {
     "data": {
      "text/html": [
       "<div>\n",
       "<table border=\"1\" class=\"dataframe\">\n",
       "  <thead>\n",
       "    <tr style=\"text-align: right;\">\n",
       "      <th></th>\n",
       "      <th>Unnamed: 0</th>\n",
       "      <th>PostId</th>\n",
       "      <th>OwnerUserId</th>\n",
       "      <th>ReputationAtPostCreation</th>\n",
       "      <th>OwnerUndeletedAnswerCountAtPostTime</th>\n",
       "      <th>OpenStatus</th>\n",
       "    </tr>\n",
       "  </thead>\n",
       "  <tbody>\n",
       "    <tr>\n",
       "      <th>count</th>\n",
       "      <td>46.000000</td>\n",
       "      <td>46.000000</td>\n",
       "      <td>46</td>\n",
       "      <td>46.000000</td>\n",
       "      <td>46.000000</td>\n",
       "      <td>46.000000</td>\n",
       "    </tr>\n",
       "    <tr>\n",
       "      <th>mean</th>\n",
       "      <td>80095.608696</td>\n",
       "      <td>4387690.173913</td>\n",
       "      <td>34537</td>\n",
       "      <td>6571.826087</td>\n",
       "      <td>110.869565</td>\n",
       "      <td>0.695652</td>\n",
       "    </tr>\n",
       "    <tr>\n",
       "      <th>std</th>\n",
       "      <td>41939.321831</td>\n",
       "      <td>3019610.771118</td>\n",
       "      <td>0</td>\n",
       "      <td>4254.098324</td>\n",
       "      <td>52.477978</td>\n",
       "      <td>0.465215</td>\n",
       "    </tr>\n",
       "    <tr>\n",
       "      <th>min</th>\n",
       "      <td>6058.000000</td>\n",
       "      <td>284189.000000</td>\n",
       "      <td>34537</td>\n",
       "      <td>57.000000</td>\n",
       "      <td>2.000000</td>\n",
       "      <td>0.000000</td>\n",
       "    </tr>\n",
       "    <tr>\n",
       "      <th>25%</th>\n",
       "      <td>38382.000000</td>\n",
       "      <td>2003785.750000</td>\n",
       "      <td>34537</td>\n",
       "      <td>2981.000000</td>\n",
       "      <td>64.500000</td>\n",
       "      <td>0.000000</td>\n",
       "    </tr>\n",
       "    <tr>\n",
       "      <th>50%</th>\n",
       "      <td>91997.500000</td>\n",
       "      <td>3461372.500000</td>\n",
       "      <td>34537</td>\n",
       "      <td>6015.000000</td>\n",
       "      <td>124.000000</td>\n",
       "      <td>1.000000</td>\n",
       "    </tr>\n",
       "    <tr>\n",
       "      <th>75%</th>\n",
       "      <td>118156.750000</td>\n",
       "      <td>6435361.250000</td>\n",
       "      <td>34537</td>\n",
       "      <td>10002.000000</td>\n",
       "      <td>157.500000</td>\n",
       "      <td>1.000000</td>\n",
       "    </tr>\n",
       "    <tr>\n",
       "      <th>max</th>\n",
       "      <td>137664.000000</td>\n",
       "      <td>10687085.000000</td>\n",
       "      <td>34537</td>\n",
       "      <td>14636.000000</td>\n",
       "      <td>175.000000</td>\n",
       "      <td>1.000000</td>\n",
       "    </tr>\n",
       "  </tbody>\n",
       "</table>\n",
       "</div>"
      ],
      "text/plain": [
       "          Unnamed: 0           PostId  OwnerUserId  ReputationAtPostCreation  \\\n",
       "count      46.000000        46.000000           46                 46.000000   \n",
       "mean    80095.608696   4387690.173913        34537               6571.826087   \n",
       "std     41939.321831   3019610.771118            0               4254.098324   \n",
       "min      6058.000000    284189.000000        34537                 57.000000   \n",
       "25%     38382.000000   2003785.750000        34537               2981.000000   \n",
       "50%     91997.500000   3461372.500000        34537               6015.000000   \n",
       "75%    118156.750000   6435361.250000        34537              10002.000000   \n",
       "max    137664.000000  10687085.000000        34537              14636.000000   \n",
       "\n",
       "       OwnerUndeletedAnswerCountAtPostTime  OpenStatus  \n",
       "count                            46.000000   46.000000  \n",
       "mean                            110.869565    0.695652  \n",
       "std                              52.477978    0.465215  \n",
       "min                               2.000000    0.000000  \n",
       "25%                              64.500000    0.000000  \n",
       "50%                             124.000000    1.000000  \n",
       "75%                             157.500000    1.000000  \n",
       "max                             175.000000    1.000000  "
      ]
     },
     "execution_count": 9,
     "metadata": {},
     "output_type": "execute_result"
    }
   ],
   "source": [
    "train[train.OwnerUserId == 34537].describe()"
   ]
  },
  {
   "cell_type": "markdown",
   "metadata": {},
   "source": [
    "Mostly closed questions #466534\n",
    "MOstly open #39677"
   ]
  },
  {
   "cell_type": "code",
   "execution_count": null,
   "metadata": {
    "collapsed": true
   },
   "outputs": [],
   "source": []
  },
  {
   "cell_type": "code",
   "execution_count": 10,
   "metadata": {
    "collapsed": false
   },
   "outputs": [
    {
     "data": {
      "text/html": [
       "<div>\n",
       "<table border=\"1\" class=\"dataframe\">\n",
       "  <thead>\n",
       "    <tr style=\"text-align: right;\">\n",
       "      <th></th>\n",
       "      <th>Unnamed: 0</th>\n",
       "      <th>PostId</th>\n",
       "      <th>PostCreationDate</th>\n",
       "      <th>OwnerUserId</th>\n",
       "      <th>OwnerCreationDate</th>\n",
       "      <th>ReputationAtPostCreation</th>\n",
       "      <th>OwnerUndeletedAnswerCountAtPostTime</th>\n",
       "      <th>Title</th>\n",
       "      <th>BodyMarkdown</th>\n",
       "      <th>Tag1</th>\n",
       "      <th>Tag2</th>\n",
       "      <th>Tag3</th>\n",
       "      <th>Tag4</th>\n",
       "      <th>Tag5</th>\n",
       "      <th>PostClosedDate</th>\n",
       "      <th>OpenStatus</th>\n",
       "      <th>tags</th>\n",
       "    </tr>\n",
       "  </thead>\n",
       "  <tbody>\n",
       "    <tr>\n",
       "      <th>6058</th>\n",
       "      <td>6058</td>\n",
       "      <td>1613617</td>\n",
       "      <td>10/23/2009 13:53:58</td>\n",
       "      <td>34537</td>\n",
       "      <td>11/05/2008 03:00:23</td>\n",
       "      <td>2610</td>\n",
       "      <td>49</td>\n",
       "      <td>script to add files to SVN with filters</td>\n",
       "      <td>My bash scripting is weak. I want to create a ...</td>\n",
       "      <td>svn</td>\n",
       "      <td>bash</td>\n",
       "      <td>scripting</td>\n",
       "      <td>regex</td>\n",
       "      <td>NaN</td>\n",
       "      <td>NaN</td>\n",
       "      <td>1</td>\n",
       "      <td>NaN</td>\n",
       "    </tr>\n",
       "    <tr>\n",
       "      <th>6122</th>\n",
       "      <td>6122</td>\n",
       "      <td>8398958</td>\n",
       "      <td>12/06/2011 11:11:38</td>\n",
       "      <td>34537</td>\n",
       "      <td>11/05/2008 03:00:23</td>\n",
       "      <td>12165</td>\n",
       "      <td>167</td>\n",
       "      <td>Trick Firefox into using pretty URLs?</td>\n",
       "      <td>In short, i am using an extension that depends...</td>\n",
       "      <td>firefox</td>\n",
       "      <td>hack</td>\n",
       "      <td>NaN</td>\n",
       "      <td>NaN</td>\n",
       "      <td>NaN</td>\n",
       "      <td>12/14/2011 20:41:16</td>\n",
       "      <td>0</td>\n",
       "      <td>NaN</td>\n",
       "    </tr>\n",
       "    <tr>\n",
       "      <th>8861</th>\n",
       "      <td>8861</td>\n",
       "      <td>5556183</td>\n",
       "      <td>04/05/2011 17:51:22</td>\n",
       "      <td>34537</td>\n",
       "      <td>11/05/2008 03:00:23</td>\n",
       "      <td>8485</td>\n",
       "      <td>153</td>\n",
       "      <td>Make C++ crash without casting?</td>\n",
       "      <td>What are possible ways to make C/C++ crash **w...</td>\n",
       "      <td>c++</td>\n",
       "      <td>c</td>\n",
       "      <td>NaN</td>\n",
       "      <td>NaN</td>\n",
       "      <td>NaN</td>\n",
       "      <td>04/07/2011 01:09:16</td>\n",
       "      <td>0</td>\n",
       "      <td>NaN</td>\n",
       "    </tr>\n",
       "    <tr>\n",
       "      <th>10287</th>\n",
       "      <td>10287</td>\n",
       "      <td>471791</td>\n",
       "      <td>01/23/2009 03:23:02</td>\n",
       "      <td>34537</td>\n",
       "      <td>11/05/2008 03:00:23</td>\n",
       "      <td>505</td>\n",
       "      <td>13</td>\n",
       "      <td>gcc compile time notes/msg</td>\n",
       "      <td>I know msvc can do this via pragma message -&gt; ...</td>\n",
       "      <td>compiler-warnings</td>\n",
       "      <td>gcc</td>\n",
       "      <td>NaN</td>\n",
       "      <td>NaN</td>\n",
       "      <td>NaN</td>\n",
       "      <td>NaN</td>\n",
       "      <td>1</td>\n",
       "      <td>NaN</td>\n",
       "    </tr>\n",
       "    <tr>\n",
       "      <th>13184</th>\n",
       "      <td>13184</td>\n",
       "      <td>6159955</td>\n",
       "      <td>05/28/2011 06:01:02</td>\n",
       "      <td>34537</td>\n",
       "      <td>11/05/2008 03:00:23</td>\n",
       "      <td>9139</td>\n",
       "      <td>155</td>\n",
       "      <td>C++ Templates: Byval/Reference interfering wit...</td>\n",
       "      <td>Here's a simplified version of my problem. I h...</td>\n",
       "      <td>c++</td>\n",
       "      <td>templates</td>\n",
       "      <td>NaN</td>\n",
       "      <td>NaN</td>\n",
       "      <td>NaN</td>\n",
       "      <td>NaN</td>\n",
       "      <td>1</td>\n",
       "      <td>NaN</td>\n",
       "    </tr>\n",
       "  </tbody>\n",
       "</table>\n",
       "</div>"
      ],
      "text/plain": [
       "       Unnamed: 0   PostId     PostCreationDate  OwnerUserId  \\\n",
       "6058         6058  1613617  10/23/2009 13:53:58        34537   \n",
       "6122         6122  8398958  12/06/2011 11:11:38        34537   \n",
       "8861         8861  5556183  04/05/2011 17:51:22        34537   \n",
       "10287       10287   471791  01/23/2009 03:23:02        34537   \n",
       "13184       13184  6159955  05/28/2011 06:01:02        34537   \n",
       "\n",
       "         OwnerCreationDate  ReputationAtPostCreation  \\\n",
       "6058   11/05/2008 03:00:23                      2610   \n",
       "6122   11/05/2008 03:00:23                     12165   \n",
       "8861   11/05/2008 03:00:23                      8485   \n",
       "10287  11/05/2008 03:00:23                       505   \n",
       "13184  11/05/2008 03:00:23                      9139   \n",
       "\n",
       "       OwnerUndeletedAnswerCountAtPostTime  \\\n",
       "6058                                    49   \n",
       "6122                                   167   \n",
       "8861                                   153   \n",
       "10287                                   13   \n",
       "13184                                  155   \n",
       "\n",
       "                                                   Title  \\\n",
       "6058             script to add files to SVN with filters   \n",
       "6122               Trick Firefox into using pretty URLs?   \n",
       "8861                     Make C++ crash without casting?   \n",
       "10287                         gcc compile time notes/msg   \n",
       "13184  C++ Templates: Byval/Reference interfering wit...   \n",
       "\n",
       "                                            BodyMarkdown               Tag1  \\\n",
       "6058   My bash scripting is weak. I want to create a ...                svn   \n",
       "6122   In short, i am using an extension that depends...            firefox   \n",
       "8861   What are possible ways to make C/C++ crash **w...                c++   \n",
       "10287  I know msvc can do this via pragma message -> ...  compiler-warnings   \n",
       "13184  Here's a simplified version of my problem. I h...                c++   \n",
       "\n",
       "            Tag2       Tag3   Tag4 Tag5       PostClosedDate  OpenStatus tags  \n",
       "6058        bash  scripting  regex  NaN                  NaN           1  NaN  \n",
       "6122        hack        NaN    NaN  NaN  12/14/2011 20:41:16           0  NaN  \n",
       "8861           c        NaN    NaN  NaN  04/07/2011 01:09:16           0  NaN  \n",
       "10287        gcc        NaN    NaN  NaN                  NaN           1  NaN  \n",
       "13184  templates        NaN    NaN  NaN                  NaN           1  NaN  "
      ]
     },
     "execution_count": 10,
     "metadata": {},
     "output_type": "execute_result"
    }
   ],
   "source": [
    "train[train.OwnerUserId == 34537].head()"
   ]
  },
  {
   "cell_type": "code",
   "execution_count": 11,
   "metadata": {
    "collapsed": false
   },
   "outputs": [
    {
     "data": {
      "text/plain": [
       "OpenStatus       \n",
       "0           count     70136.000000\n",
       "            mean        355.813063\n",
       "            std        1917.610162\n",
       "            min         -17.000000\n",
       "            25%           1.000000\n",
       "            50%          18.000000\n",
       "            75%         148.000000\n",
       "            max      123242.000000\n",
       "1           count     70136.000000\n",
       "            mean        657.454745\n",
       "            std        2955.744169\n",
       "            min         -34.000000\n",
       "            25%           6.000000\n",
       "            50%          64.000000\n",
       "            75%         394.000000\n",
       "            max      209631.000000\n",
       "dtype: float64"
      ]
     },
     "execution_count": 11,
     "metadata": {},
     "output_type": "execute_result"
    }
   ],
   "source": [
    "train.groupby('OpenStatus').ReputationAtPostCreation.describe()"
   ]
  },
  {
   "cell_type": "code",
   "execution_count": 12,
   "metadata": {
    "collapsed": false
   },
   "outputs": [
    {
     "data": {
      "text/plain": [
       "array([<matplotlib.axes._subplots.AxesSubplot object at 0x115e70f90>,\n",
       "       <matplotlib.axes._subplots.AxesSubplot object at 0x106ee3450>], dtype=object)"
      ]
     },
     "execution_count": 12,
     "metadata": {},
     "output_type": "execute_result"
    },
    {
     "data": {
      "image/png": "[encoded data removed]",
      "text/plain": [
       "<matplotlib.figure.Figure at 0x114ec4e10>"
      ]
     },
     "metadata": {},
     "output_type": "display_data"
    }
   ],
   "source": [
    "train[train.ReputationAtPostCreation < 1000].ReputationAtPostCreation.hist(by=train.OpenStatus) #default histogram is bad"
   ]
  },
  {
   "cell_type": "code",
   "execution_count": 2,
   "metadata": {
    "collapsed": true
   },
   "outputs": [],
   "source": [
    "train.rename(columns={'OwnerUndeletedAnswerCountAtPostTime':'Answers'}, inplace = True)"
   ]
  },
  {
   "cell_type": "code",
   "execution_count": 14,
   "metadata": {
    "collapsed": false
   },
   "outputs": [
    {
     "data": {
      "text/plain": [
       "OpenStatus       \n",
       "0           count    70136.000000\n",
       "            mean        13.529956\n",
       "            std         72.280095\n",
       "            min          0.000000\n",
       "            25%          0.000000\n",
       "            50%          0.000000\n",
       "            75%          5.000000\n",
       "            max       5772.000000\n",
       "1           count    70136.000000\n",
       "            mean        25.405826\n",
       "            std        104.635848\n",
       "            min          0.000000\n",
       "            25%          0.000000\n",
       "            50%          2.000000\n",
       "            75%         13.000000\n",
       "            max       5117.000000\n",
       "dtype: float64"
      ]
     },
     "execution_count": 14,
     "metadata": {},
     "output_type": "execute_result"
    }
   ],
   "source": [
    "train.groupby('OpenStatus').Answers.describe()"
   ]
  },
  {
   "cell_type": "code",
   "execution_count": 3,
   "metadata": {
    "collapsed": true
   },
   "outputs": [],
   "source": [
    "def make_features(filename):\n",
    "    df = pd.read_csv(filename, index_col = 0)\n",
    "    df.rename(columns={'OwnerUndeletedAnswerCountAtPostTime':'Answers' }, inplace = True)\n",
    "    return df\n",
    "#to ensure train and test have same features"
   ]
  },
  {
   "cell_type": "code",
   "execution_count": 4,
   "metadata": {
    "collapsed": true
   },
   "outputs": [],
   "source": [
    "train = make_features('train.csv')\n",
    "test = make_features('test.csv')"
   ]
  },
  {
   "cell_type": "code",
   "execution_count": 5,
   "metadata": {
    "collapsed": true
   },
   "outputs": [],
   "source": [
    "#useful during feature engineering \n",
    "\n",
    "feature_cols = ['ReputationAtPostCreation', 'Answers']\n",
    "X=train[feature_cols]\n",
    "y=train.OpenStatus"
   ]
  },
  {
   "cell_type": "code",
   "execution_count": 6,
   "metadata": {
    "collapsed": false
   },
   "outputs": [
    {
     "data": {
      "text/plain": [
       "array([[  3.23003325e-05,   1.67855859e-03]])"
      ]
     },
     "execution_count": 6,
     "metadata": {},
     "output_type": "execute_result"
    }
   ],
   "source": [
    "from sklearn.cross_validation import train_test_split\n",
    "X_train, X_test, y_train, y_test = train_test_split(X,y, random_state = 1)\n",
    "\n",
    "from sklearn.linear_model import LogisticRegression\n",
    "logreg = LogisticRegression(C=1e9)\n",
    "logreg.fit(X_train, y_train)\n",
    "logreg.coef_"
   ]
  },
  {
   "cell_type": "code",
   "execution_count": 7,
   "metadata": {
    "collapsed": false
   },
   "outputs": [],
   "source": [
    "#the cofficients look good, positive correlation\n",
    "\n",
    "y_pred_class = logreg.predict(X_test)\n",
    "y_pred_prob = logreg.predict_proba(X_test)[:,1]"
   ]
  },
  {
   "cell_type": "code",
   "execution_count": null,
   "metadata": {
    "collapsed": true
   },
   "outputs": [],
   "source": [
    "#evaluation metrics\n",
    "\n",
    "#confusion matrix; AUC; log_loss; predictb"
   ]
  },
  {
   "cell_type": "code",
   "execution_count": 8,
   "metadata": {
    "collapsed": false
   },
   "outputs": [
    {
     "name": "stdout",
     "output_type": "stream",
     "text": [
      "0.542659974906\n",
      "[[15098  2413]\n",
      " [13625  3932]]\n",
      "0.607036068463\n",
      "0.689967730114\n"
     ]
    }
   ],
   "source": [
    "from sklearn import metrics\n",
    "print metrics.accuracy_score(y_test, y_pred_class)\n",
    "print metrics.confusion_matrix(y_test, y_pred_class)\n",
    "print metrics.roc_auc_score(y_test, y_pred_prob)\n",
    "print metrics.log_loss(y_test, y_pred_prob)"
   ]
  },
  {
   "cell_type": "code",
   "execution_count": 9,
   "metadata": {
    "collapsed": false
   },
   "outputs": [
    {
     "data": {
      "text/plain": [
       "-0.6901647600716323"
      ]
     },
     "execution_count": 9,
     "metadata": {},
     "output_type": "execute_result"
    }
   ],
   "source": [
    "from sklearn.cross_validation import cross_val_score\n",
    "cross_val_score(logreg, X, y, cv=10, scoring='log_loss').mean()"
   ]
  },
  {
   "cell_type": "code",
   "execution_count": 10,
   "metadata": {
    "collapsed": true
   },
   "outputs": [],
   "source": [
    "\n",
    "logreg.fit(X,y)\n",
    "X_oos = test[feature_cols]\n",
    "oos_pred_prob = logreg.predict_proba(X_oos)[:,1]\n",
    "\n",
    "\n",
    "sub = pd.DataFrame({'id':test.index, 'OpenStatus':oos_pred_prob}).set_index('id')\n",
    "sub.to_csv('sub_ensemble.csv')"
   ]
  },
  {
   "cell_type": "code",
   "execution_count": 11,
   "metadata": {
    "collapsed": true
   },
   "outputs": [],
   "source": [
    "train['BodyLength'] = train.BodyMarkdown.apply(len)\n",
    "train['TitleLength'] = train.Title.apply(len)\n"
   ]
  },
  {
   "cell_type": "code",
   "execution_count": 12,
   "metadata": {
    "collapsed": false
   },
   "outputs": [
    {
     "data": {
      "text/plain": [
       "Tag1\n",
       "#visualstudio         0.000000\n",
       ".bat                  1.000000\n",
       ".cpp                  0.000000\n",
       ".exe                  1.000000\n",
       ".htaccess             0.572864\n",
       ".net                  0.549550\n",
       ".net-1.1              1.000000\n",
       ".net-2.0              0.625000\n",
       ".net-3.5              0.750000\n",
       ".net-4.0              1.000000\n",
       ".net-framework-4.0    0.000000\n",
       ".net1.1               1.000000\n",
       ".net3.5sp1            1.000000\n",
       ".netcf                1.000000\n",
       ".netremoting          1.000000\n",
       "256                   1.000000\n",
       "2d                    0.250000\n",
       "2d-array              1.000000\n",
       "32bit-64bit           0.200000\n",
       "3d                    0.424242\n",
       "3ds                   0.000000\n",
       "3dsmax                0.333333\n",
       "3g                    0.000000\n",
       "64bit                 0.800000\n",
       "70-536                0.500000\n",
       "7zip                  0.000000\n",
       "802.11                1.000000\n",
       "8051                  0.000000\n",
       "8086                  1.000000\n",
       "80x86                 0.000000\n",
       "                        ...   \n",
       "yql                   0.000000\n",
       "yui                   0.800000\n",
       "yui3                  1.000000\n",
       "yum                   0.000000\n",
       "z-index               1.000000\n",
       "z3                    1.000000\n",
       "zebra-printers        1.000000\n",
       "zedgraph              0.666667\n",
       "zen-cart              1.000000\n",
       "zen-coding            1.000000\n",
       "zend                  0.875000\n",
       "zend-acl              1.000000\n",
       "zend-form             1.000000\n",
       "zend-form-element     1.000000\n",
       "zend-framework        0.676056\n",
       "zend-studio           1.000000\n",
       "zepto                 0.000000\n",
       "zero                  0.000000\n",
       "zeromq                0.500000\n",
       "zfs                   0.500000\n",
       "zimbra                0.000000\n",
       "zip                   0.363636\n",
       "zipcode               1.000000\n",
       "zipfile               1.000000\n",
       "zk                    1.000000\n",
       "zlib                  1.000000\n",
       "zombie-process        0.000000\n",
       "zoom                  1.000000\n",
       "zsh                   0.333333\n",
       "zxing                 0.333333\n",
       "Name: OpenStatus, dtype: float64"
      ]
     },
     "execution_count": 12,
     "metadata": {},
     "output_type": "execute_result"
    }
   ],
   "source": [
    "train.groupby('Tag1').OpenStatus.mean()"
   ]
  },
  {
   "cell_type": "code",
   "execution_count": 13,
   "metadata": {
    "collapsed": false
   },
   "outputs": [],
   "source": [
    "train['NumTags'] = train.loc[:, 'Tag1':'Tag5'].notnull().sum(axis = 1)"
   ]
  },
  {
   "cell_type": "markdown",
   "metadata": {},
   "source": [
    "###difference between time post created and Q posted"
   ]
  },
  {
   "cell_type": "code",
   "execution_count": 14,
   "metadata": {
    "collapsed": true
   },
   "outputs": [],
   "source": [
    "train['OwnerCreationDate'] = pd.to_datetime(train.OwnerCreationDate)\n",
    "train['PostCreationDate'] = pd.to_datetime(train.PostCreationDate)"
   ]
  },
  {
   "cell_type": "code",
   "execution_count": 15,
   "metadata": {
    "collapsed": false
   },
   "outputs": [],
   "source": [
    "train['OwnerAge'] = (train.PostCreationDate - train.OwnerCreationDate).dt.days"
   ]
  },
  {
   "cell_type": "code",
   "execution_count": 16,
   "metadata": {
    "collapsed": false
   },
   "outputs": [
    {
     "data": {
      "text/plain": [
       "OpenStatus       \n",
       "0           count    70136.000000\n",
       "            mean       700.580829\n",
       "            std       1633.567536\n",
       "            min         13.000000\n",
       "            25%        205.000000\n",
       "            50%        365.000000\n",
       "            75%        677.000000\n",
       "            max      30804.000000\n",
       "1           count    70136.000000\n",
       "            mean       960.725091\n",
       "            std       1284.169671\n",
       "            min         12.000000\n",
       "            25%        359.000000\n",
       "            50%        624.000000\n",
       "            75%       1098.000000\n",
       "            max      30024.000000\n",
       "dtype: float64"
      ]
     },
     "execution_count": 16,
     "metadata": {},
     "output_type": "execute_result"
    }
   ],
   "source": [
    "train.groupby('OpenStatus').BodyLength.describe()"
   ]
  },
  {
   "cell_type": "code",
   "execution_count": 17,
   "metadata": {
    "collapsed": true
   },
   "outputs": [],
   "source": [
    "'''\n",
    "Update make_features and create another submission file\n",
    "'''\n",
    "\n",
    "# update the function\n",
    "def make_features(filename):\n",
    "    df = pd.read_csv(filename, index_col=0)\n",
    "    df.rename(columns={'OwnerUndeletedAnswerCountAtPostTime':'Answers'}, inplace=True)\n",
    "    df['TitleLength'] = df.Title.apply(len)\n",
    "    df['BodyLength'] = df.BodyMarkdown.apply(len)\n",
    "    df['NumTags'] = df.loc[:, 'Tag1':'Tag5'].notnull().sum(axis=1)\n",
    "    df['OwnerCreationDate'] = pd.to_datetime(df.OwnerCreationDate)\n",
    "    df['PostCreationDate'] = pd.to_datetime(df.PostCreationDate)\n",
    "    df['OwnerAge'] = (df.PostCreationDate - df.OwnerCreationDate).dt.days\n",
    "    return df"
   ]
  },
  {
   "cell_type": "code",
   "execution_count": 18,
   "metadata": {
    "collapsed": true
   },
   "outputs": [],
   "source": [
    "# apply function to both training and testing files\n",
    "train = make_features('train.csv')\n",
    "test = make_features('test.csv')"
   ]
  },
  {
   "cell_type": "code",
   "execution_count": 19,
   "metadata": {
    "collapsed": true
   },
   "outputs": [],
   "source": [
    "# train the model with OwnerUserId\n",
    "feature_cols = ['ReputationAtPostCreation', 'Answers', 'TitleLength', 'BodyLength', 'NumTags', 'OwnerUserId']\n",
    "X = train[feature_cols]\n",
    "logreg.fit(X, y)\n",
    "\n",
    "# predict class probabilities for the actual testing data\n",
    "X_oos = test[feature_cols]\n",
    "oos_pred_prob00 = logreg.predict_proba(X_oos)[:, 1]\n",
    "\n",
    "\n",
    "# create submission file\n",
    "##sub = pd.DataFrame({'id':test.index, 'OpenStatus':oos_pred_prob}).set_index('id')\n",
    "##sub.to_csv('sub2.csv')  # 0.864"
   ]
  },
  {
   "cell_type": "code",
   "execution_count": 20,
   "metadata": {
    "collapsed": false
   },
   "outputs": [
    {
     "data": {
      "text/plain": [
       "count                   73290\n",
       "unique                  70650\n",
       "top       2012-08-13 21:13:52\n",
       "freq                        4\n",
       "first     2012-08-01 00:00:17\n",
       "last      2012-08-14 23:59:04\n",
       "Name: PostCreationDate, dtype: object"
      ]
     },
     "execution_count": 20,
     "metadata": {},
     "output_type": "execute_result"
    }
   ],
   "source": [
    "# repeat with OwnerAge\n",
    "feature_cols = ['ReputationAtPostCreation', 'Answers', 'TitleLength', 'BodyLength', 'NumTags', 'OwnerAge']\n",
    "X = train[feature_cols]\n",
    "logreg.fit(X, y)\n",
    "X_oos = test[feature_cols]\n",
    "oos_pred_prob_0 = logreg.predict_proba(X_oos)[:, 1]\n",
    "#sub = pd.DataFrame({'id':test.index, 'OpenStatus':oos_pred_prob}).set_index('id')\n",
    "#sub.to_csv('sub3.csv')  # 0.637\n",
    "\n",
    "# OwnerUserId overfits the training data, whereas OwnerAge does not\n",
    "train.PostCreationDate.describe()\n",
    "test.PostCreationDate.describe()"
   ]
  },
  {
   "cell_type": "code",
   "execution_count": 21,
   "metadata": {
    "collapsed": true
   },
   "outputs": [],
   "source": [
    "'''\n",
    "Build a document-term matrix from Title using CountVectorizer\n",
    "'''\n",
    "\n",
    "# use CountVectorizer with the default settings\n",
    "from sklearn.feature_extraction.text import CountVectorizer\n",
    "vect = CountVectorizer()\n",
    "dtm = vect.fit_transform(train.Title)\n",
    "\n",
    "# cross-validation of a Naive Bayes model\n",
    "from sklearn.naive_bayes import MultinomialNB\n",
    "nb = MultinomialNB()\n",
    "cross_val_score(nb, dtm, train.OpenStatus, scoring='log_loss', cv=10).mean()    # 0.657\n",
    "\n",
    "# tune CountVectorizer and repeat Naive Bayes\n",
    "vect = CountVectorizer(stop_words='english')\n",
    "dtm = vect.fit_transform(train.Title)\n",
    "cross_val_score(nb, dtm, train.OpenStatus, scoring='log_loss', cv=10).mean()    # 0.635\n",
    "\n",
    "# build document-term matrix for the actual testing data and make predictions\n",
    "oos_dtm = vect.transform(test.Title)\n",
    "nb.fit(dtm, train.OpenStatus)\n",
    "oos_pred_prob_1 = nb.predict_proba(oos_dtm)[:, 1]\n"
   ]
  },
  {
   "cell_type": "code",
   "execution_count": 22,
   "metadata": {
    "collapsed": false
   },
   "outputs": [
    {
     "name": "stderr",
     "output_type": "stream",
     "text": [
      "//anaconda/lib/python2.7/site-packages/numpy/lib/arraysetops.py:198: FutureWarning: numpy not_equal will not check object identity in the future. The comparison did not return the same result as suggested by the identity (`is`)) and will change.\n",
      "  flag = np.concatenate(([True], aux[1:] != aux[:-1]))\n"
     ]
    }
   ],
   "source": [
    "'''\n",
    "Dummy encoding of Tag1\n",
    "'''\n",
    "\n",
    "# number of unique tags for Tag1\n",
    "train.Tag1.nunique()\n",
    "\n",
    "# convert Tag1 from strings to integers\n",
    "from sklearn.preprocessing import LabelEncoder\n",
    "le = LabelEncoder()\n",
    "train['Tag1_enc'] = le.fit_transform(train.Tag1)\n",
    "\n",
    "# confirm that the conversion worked\n",
    "train.Tag1.value_counts().head()\n",
    "train.Tag1_enc.value_counts().head()\n",
    "\n",
    "# create a dummy column for each value of Tag1_enc (returns a sparse matrix)\n",
    "from sklearn.preprocessing import OneHotEncoder\n",
    "ohe = OneHotEncoder()\n",
    "tag1_dummies = ohe.fit_transform(train[['Tag1_enc']])\n",
    "tag1_dummies\n",
    "\n",
    "# try a Naive Bayes model with tag1_dummies as the features\n",
    "cross_val_score(nb, tag1_dummies, train.OpenStatus, scoring='log_loss', cv=10).mean()   # 0.650\n",
    "\n",
    "# adjust Tag1 on testing set since LabelEncoder errors on new values during a transform\n",
    "test['Tag1'] = test['Tag1'].map(lambda s: '<unknown>' if s not in le.classes_ else s)\n",
    "import numpy as np\n",
    "le.classes_ = np.append(le.classes_, '<unknown>')\n",
    "\n",
    "# apply the same encoding to the actual testing data and make predictions\n",
    "test['Tag1_enc'] = le.transform(test.Tag1)\n",
    "oos_tag1_dummies = ohe.transform(test[['Tag1_enc']])\n",
    "nb.fit(tag1_dummies, train.OpenStatus)\n",
    "oos_pred_prob_2 = nb.predict_proba(oos_tag1_dummies)[:, 1]\n"
   ]
  },
  {
   "cell_type": "code",
   "execution_count": 23,
   "metadata": {
    "collapsed": false
   },
   "outputs": [],
   "source": [
    "#examining sentimnet as a potential feature\n",
    "from textblob import TextBlob, Word\n",
    "# define a function that accepts text and returns the polarity\n",
    "def detect_sentiment(text):\n",
    "    return TextBlob(text.decode('utf-8')).sentiment.polarity\n",
    "\n",
    "# create a new DataFrame column for sentiment\n",
    "train['sentiment'] = train.BodyMarkdown.apply(detect_sentiment)\n",
    "test['sentiment'] = test.BodyMarkdown.apply(detect_sentiment)\n",
    "\n"
   ]
  },
  {
   "cell_type": "code",
   "execution_count": 24,
   "metadata": {
    "collapsed": false
   },
   "outputs": [],
   "source": [
    "feature_cols = ['ReputationAtPostCreation', 'Answers', 'TitleLength', 'BodyLength', 'NumTags', 'OwnerAge', 'sentiment']\n",
    "X = train[feature_cols]\n",
    "logreg.fit(X, y)\n",
    "X_oos = test[feature_cols]\n",
    "\n",
    "oos_pred_prob_3 = logreg.predict_proba(X_oos)[:, 1]"
   ]
  },
  {
   "cell_type": "code",
   "execution_count": 25,
   "metadata": {
    "collapsed": false
   },
   "outputs": [],
   "source": [
    "##lowercase vs closed qs\n",
    "train['TitleLowercase'] = (train.Title.str.lower() == train.Title).astype(int)\n",
    "train['BodyLowercase'] = (train.BodyMarkdown.str.lower() == train.BodyMarkdown).astype(int)\n",
    "\n",
    "\n",
    "test['TitleLowercase'] = (train.Title.str.lower() == train.Title).astype(int)\n",
    "test['BodyLowercase'] = (train.BodyMarkdown.str.lower() == train.BodyMarkdown).astype(int)\n",
    "    \n",
    "#-.66"
   ]
  },
  {
   "cell_type": "code",
   "execution_count": 26,
   "metadata": {
    "collapsed": true
   },
   "outputs": [],
   "source": [
    "train['TitleQuestion'] = train.Title.str.contains('question', case=False).astype(int)\n",
    "train['TitleNeed'] = train.Title.str.contains('need', case=False).astype(int)\n",
    "train['TitleHelp'] = train.Title.str.contains('help', case=False).astype(int)\n",
    "\n",
    "test['TitleQuestion'] = test.Title.str.contains('question', case=False).astype(int)\n",
    "test['TitleNeed'] = test.Title.str.contains('need', case=False).astype(int)\n",
    "test['TitleHelp'] = test.Title.str.contains('help', case=False).astype(int)"
   ]
  },
  {
   "cell_type": "code",
   "execution_count": 27,
   "metadata": {
    "collapsed": false,
    "scrolled": true
   },
   "outputs": [
    {
     "data": {
      "text/plain": [
       "-0.66597142699717571"
      ]
     },
     "execution_count": 27,
     "metadata": {},
     "output_type": "execute_result"
    }
   ],
   "source": [
    "feature_cols = ['ReputationAtPostCreation', 'Answers', 'TitleLength', 'BodyLength', 'NumTags', 'OwnerAge', \\\n",
    "                'sentiment', 'TitleLowercase', 'BodyLowercase', 'TitleQuestion', 'TitleNeed', 'TitleHelp' \\\n",
    "               ]\n",
    "X = train[feature_cols]\n",
    "\n",
    "cross_val_score(logreg, X, y, cv=10, scoring='log_loss').mean()"
   ]
  },
  {
   "cell_type": "code",
   "execution_count": 34,
   "metadata": {
    "collapsed": false
   },
   "outputs": [
    {
     "name": "stdout",
     "output_type": "stream",
     "text": [
      "-2.55081120548\n"
     ]
    }
   ],
   "source": [
    "vect = CountVectorizer(ngram_range=(1, 2), max_features=10000)\n",
    "dtm = vect.fit_transform(train.BodyMarkdown)\n",
    "nb = MultinomialNB()\n",
    "dtm = vect.fit_transform(train.BodyMarkdown)\n",
    "print cross_val_score(nb, dtm, train.OpenStatus, scoring='log_loss', cv=10).mean()    # 0.635"
   ]
  },
  {
   "cell_type": "code",
   "execution_count": 35,
   "metadata": {
    "collapsed": false,
    "scrolled": true
   },
   "outputs": [],
   "source": [
    "# build document-term matrix for the actual testing data and make predictions\n",
    "oos_dtm = vect.transform(test.BodyMarkdown)\n",
    "nb.fit(dtm, train.OpenStatus)\n",
    "oos_pred_prob_4 = nb.predict_proba(oos_dtm)[:, 1]"
   ]
  },
  {
   "cell_type": "markdown",
   "metadata": {},
   "source": [
    "###Piping"
   ]
  },
  {
   "cell_type": "code",
   "execution_count": 30,
   "metadata": {
    "collapsed": true
   },
   "outputs": [],
   "source": [
    "from sklearn.pipeline import make_pipeline\n",
    "\n",
    "\n",
    "pipe = make_pipeline(CountVectorizer(stop_words='english'), LogisticRegression())"
   ]
  },
  {
   "cell_type": "code",
   "execution_count": 31,
   "metadata": {
    "collapsed": false
   },
   "outputs": [
    {
     "data": {
      "text/plain": [
       "-0.57211851986201612"
      ]
     },
     "execution_count": 31,
     "metadata": {},
     "output_type": "execute_result"
    }
   ],
   "source": [
    "#Perform cross validation to get an idea of the performance of the model\n",
    "cross_val_score(pipe, train['Title'], y, scoring=\"log_loss\", cv=5).mean()"
   ]
  },
  {
   "cell_type": "code",
   "execution_count": 32,
   "metadata": {
    "collapsed": false
   },
   "outputs": [],
   "source": [
    "# Predict class probabilities for the actual testing data\n",
    "pipe.fit(train['Title'], y)\n",
    "y_prob_pipe = pipe.predict_proba(test['Title'])[:, 1]"
   ]
  },
  {
   "cell_type": "code",
   "execution_count": 2,
   "metadata": {
    "collapsed": false
   },
   "outputs": [
    {
     "ename": "NameError",
     "evalue": "name 'oos_pred_prob_0' is not defined",
     "output_type": "error",
     "traceback": [
      "\u001b[0;31m---------------------------------------------------------------------------\u001b[0m",
      "\u001b[0;31mNameError\u001b[0m                                 Traceback (most recent call last)",
      "\u001b[0;32m<ipython-input-2-fe841bedffc0>\u001b[0m in \u001b[0;36m<module>\u001b[0;34m()\u001b[0m\n\u001b[1;32m     10\u001b[0m '''\n\u001b[1;32m     11\u001b[0m \u001b[0;34m\u001b[0m\u001b[0m\n\u001b[0;32m---> 12\u001b[0;31m \u001b[0my_prob_combined\u001b[0m \u001b[0;34m=\u001b[0m \u001b[0;34m(\u001b[0m\u001b[0moos_pred_prob_0\u001b[0m  \u001b[0;34m+\u001b[0m \u001b[0moos_pred_prob_1\u001b[0m \u001b[0;34m+\u001b[0m \u001b[0moos_pred_prob_4\u001b[0m \u001b[0;34m+\u001b[0m \u001b[0;36m3\u001b[0m\u001b[0;34m*\u001b[0m\u001b[0my_prob_pipe\u001b[0m\u001b[0;34m)\u001b[0m \u001b[0;34m/\u001b[0m \u001b[0;36m4\u001b[0m\u001b[0;34m\u001b[0m\u001b[0m\n\u001b[0m\u001b[1;32m     13\u001b[0m \u001b[0;34m\u001b[0m\u001b[0m\n\u001b[1;32m     14\u001b[0m \u001b[0;31m# Create a DataFrame that has 'id' as the index, then export to a CSV file\u001b[0m\u001b[0;34m\u001b[0m\u001b[0;34m\u001b[0m\u001b[0m\n",
      "\u001b[0;31mNameError\u001b[0m: name 'oos_pred_prob_0' is not defined"
     ]
    }
   ],
   "source": [
    "#Create submission\n",
    "\n",
    "# Ensemble predictions\n",
    "'''\n",
    "y_prob_combined = (oos_pred_prob_0  + oos_pred_prob_1 + oos_pred_prob_3 + 3*y_prob_pipe) / 4\n",
    "\n",
    "# Create a DataFrame that has 'id' as the index, then export to a CSV file\n",
    "sub = pd.DataFrame({'id':test.index, 'OpenStatus':y_prob_combined}).set_index('id')\n",
    "sub.to_csv('sub_ensemble_inclass.csv')\n",
    "'''\n",
    "\n",
    "y_prob_combined = (oos_pred_prob_0  + oos_pred_prob_1 + oos_pred_prob_4 + 3*y_prob_pipe) / 4\n",
    "\n",
    "# Create a DataFrame that has 'id' as the index, then export to a CSV file\n",
    "sub = pd.DataFrame({'id':test.index, 'OpenStatus':y_prob_combined}).set_index('id')\n",
    "sub.to_csv('sub_ensemble_inclass_3.csv')"
   ]
  },
  {
   "cell_type": "code",
   "execution_count": null,
   "metadata": {
    "collapsed": true
   },
   "outputs": [],
   "source": []
  }
 ],
 "metadata": {
  "kernelspec": {
   "display_name": "Python 2",
   "language": "python",
   "name": "python2"
  },
  "language_info": {
   "codemirror_mode": {
    "name": "ipython",
    "version": 2
   },
   "file_extension": ".py",
   "mimetype": "text/x-python",
   "name": "python",
   "nbconvert_exporter": "python",
   "pygments_lexer": "ipython2",
   "version": "2.7.10"
  }
 },
 "nbformat": 4,
 "nbformat_minor": 0
}
